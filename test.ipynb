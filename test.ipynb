{
 "cells": [
  {
   "cell_type": "markdown",
   "metadata": {},
   "source": [
    "# Adding Problem with LSTM and IndRNN #"
   ]
  },
  {
   "cell_type": "code",
   "execution_count": 1,
   "metadata": {},
   "outputs": [
    {
     "name": "stderr",
     "output_type": "stream",
     "text": [
      "Using TensorFlow backend.\n"
     ]
    }
   ],
   "source": [
    "from keras.models import Sequential\n",
    "from keras.layers import CuDNNLSTM, RNN, Dense\n",
    "from keras.optimizers import Adam\n",
    "\n",
    "from keras_tqdm.tqdm_callback import TQDMCallback\n",
    "\n",
    "import sys\n",
    "\n",
    "import matplotlib.pyplot as plt\n",
    "import seaborn as sns\n",
    "\n",
    "import pandas as pd\n",
    "import numpy as np\n",
    "\n",
    "from indrnn import IndRNNCell"
   ]
  },
  {
   "cell_type": "code",
   "execution_count": 2,
   "metadata": {},
   "outputs": [],
   "source": [
    "def generator(timesteps, batchsize=128):\n",
    "    while True:\n",
    "        x = np.random.uniform(0, 1, size=(batchsize, timesteps, 1))\n",
    "        x = np.concatenate([x, np.zeros_like(x)], axis=-1)\n",
    "        x[:, np.random.randint(0, timesteps, size=2), 1] = 1\n",
    "\n",
    "        y = np.expand_dims(np.sum(np.prod(x, axis=-1), axis=-1), axis=-1)\n",
    "\n",
    "        yield x, y\n",
    "\n",
    "        \n",
    "batchsize = 128\n",
    "epochs = 100\n",
    "steps = 100\n",
    "\n",
    "gen_100 = generator(100, batchsize)"
   ]
  },
  {
   "cell_type": "markdown",
   "metadata": {},
   "source": [
    "## LSTM Test ##"
   ]
  },
  {
   "cell_type": "code",
   "execution_count": 11,
   "metadata": {},
   "outputs": [
    {
     "name": "stdout",
     "output_type": "stream",
     "text": [
      "_________________________________________________________________\n",
      "Layer (type)                 Output Shape              Param #   \n",
      "=================================================================\n",
      "cu_dnnlstm_4 (CuDNNLSTM)     (None, 128)               67584     \n",
      "_________________________________________________________________\n",
      "dense_4 (Dense)              (None, 1)                 129       \n",
      "=================================================================\n",
      "Total params: 67,713\n",
      "Trainable params: 67,713\n",
      "Non-trainable params: 0\n",
      "_________________________________________________________________\n"
     ]
    }
   ],
   "source": [
    "lstm = Sequential()\n",
    "lstm.add(CuDNNLSTM(128, input_shape=(100, 2)))\n",
    "lstm.add(Dense(1))\n",
    "\n",
    "lstm.compile(optimizer=Adam(0.002, amsgrad=False), loss='mse')\n",
    "lstm.summary()"
   ]
  },
  {
   "cell_type": "code",
   "execution_count": 12,
   "metadata": {},
   "outputs": [],
   "source": [
    "lstm_hist = lstm.fit_generator(gen_100, \n",
    "                               steps_per_epoch=steps, \n",
    "                               epochs=epochs,\n",
    "                               callbacks=[\n",
    "                                   TQDMCallback(leave_inner=False,\n",
    "                                                output_file=sys.__stdout__)\n",
    "                               ],\n",
    "                               verbose=0)"
   ]
  },
  {
   "cell_type": "markdown",
   "metadata": {},
   "source": [
    "## IndRNN Test ##"
   ]
  },
  {
   "cell_type": "code",
   "execution_count": 5,
   "metadata": {},
   "outputs": [
    {
     "name": "stdout",
     "output_type": "stream",
     "text": [
      "_________________________________________________________________\n",
      "Layer (type)                 Output Shape              Param #   \n",
      "=================================================================\n",
      "rnn_1 (RNN)                  (None, 128)               17152     \n",
      "_________________________________________________________________\n",
      "dense_2 (Dense)              (None, 1)                 129       \n",
      "=================================================================\n",
      "Total params: 17,281\n",
      "Trainable params: 17,281\n",
      "Non-trainable params: 0\n",
      "_________________________________________________________________\n"
     ]
    }
   ],
   "source": [
    "indrnn = Sequential()\n",
    "indrnn.add(RNN([\n",
    "        IndRNNCell(128),\n",
    "        IndRNNCell(128)\n",
    "    ], input_shape=(100, 2)))\n",
    "indrnn.add(Dense(1))\n",
    "\n",
    "indrnn.compile(optimizer=Adam(0.0002, amsgrad=False), loss='mse')\n",
    "indrnn.summary()"
   ]
  },
  {
   "cell_type": "code",
   "execution_count": 6,
   "metadata": {},
   "outputs": [],
   "source": [
    "indrnn_hist = indrnn.fit_generator(gen_100, \n",
    "                                   steps_per_epoch=steps, \n",
    "                                   epochs=epochs,\n",
    "                                   callbacks=[\n",
    "                                       TQDMCallback(leave_inner=False,\n",
    "                                                    output_file=sys.__stdout__)\n",
    "                                   ],\n",
    "                                   verbose=0)"
   ]
  },
  {
   "cell_type": "markdown",
   "metadata": {},
   "source": [
    "## Comparison ##"
   ]
  },
  {
   "cell_type": "code",
   "execution_count": 13,
   "metadata": {},
   "outputs": [
    {
     "data": {
      "text/html": [
       "<div>\n",
       "<style scoped>\n",
       "    .dataframe tbody tr th:only-of-type {\n",
       "        vertical-align: middle;\n",
       "    }\n",
       "\n",
       "    .dataframe tbody tr th {\n",
       "        vertical-align: top;\n",
       "    }\n",
       "\n",
       "    .dataframe thead th {\n",
       "        text-align: right;\n",
       "    }\n",
       "</style>\n",
       "<table border=\"1\" class=\"dataframe\">\n",
       "  <thead>\n",
       "    <tr style=\"text-align: right;\">\n",
       "      <th></th>\n",
       "      <th>Loss</th>\n",
       "      <th>RNN</th>\n",
       "    </tr>\n",
       "    <tr>\n",
       "      <th>Epoch</th>\n",
       "      <th></th>\n",
       "      <th></th>\n",
       "    </tr>\n",
       "  </thead>\n",
       "  <tbody>\n",
       "    <tr>\n",
       "      <th>0</th>\n",
       "      <td>0.199443</td>\n",
       "      <td>LSTM</td>\n",
       "    </tr>\n",
       "    <tr>\n",
       "      <th>1</th>\n",
       "      <td>0.177778</td>\n",
       "      <td>LSTM</td>\n",
       "    </tr>\n",
       "    <tr>\n",
       "      <th>2</th>\n",
       "      <td>0.167373</td>\n",
       "      <td>LSTM</td>\n",
       "    </tr>\n",
       "    <tr>\n",
       "      <th>3</th>\n",
       "      <td>0.172410</td>\n",
       "      <td>LSTM</td>\n",
       "    </tr>\n",
       "    <tr>\n",
       "      <th>4</th>\n",
       "      <td>0.168577</td>\n",
       "      <td>LSTM</td>\n",
       "    </tr>\n",
       "  </tbody>\n",
       "</table>\n",
       "</div>"
      ],
      "text/plain": [
       "           Loss   RNN\n",
       "Epoch                \n",
       "0      0.199443  LSTM\n",
       "1      0.177778  LSTM\n",
       "2      0.167373  LSTM\n",
       "3      0.172410  LSTM\n",
       "4      0.168577  LSTM"
      ]
     },
     "execution_count": 13,
     "metadata": {},
     "output_type": "execute_result"
    }
   ],
   "source": [
    "losses = []\n",
    "\n",
    "for hs in [lstm_hist, indrnn_hist]:\n",
    "    df = pd.DataFrame(index=range(epochs))\n",
    "    df.index.rename('Epoch', True)\n",
    "    df['Loss'] = hs.history['loss']\n",
    "    df['RNN'] = 'LSTM' if hs is lstm_hist else 'IndRNN'\n",
    "    losses.append(df)\n",
    "\n",
    "losses = pd.concat(losses)\n",
    "losses.head()"
   ]
  },
  {
   "cell_type": "code",
   "execution_count": 14,
   "metadata": {},
   "outputs": [
    {
     "data": {
      "image/png": "[encoded data removed]",
      "text/plain": [
       "<Figure size 1152x648 with 1 Axes>"
      ]
     },
     "metadata": {},
     "output_type": "display_data"
    }
   ],
   "source": [
    "fig, ax = plt.subplots(figsize=(16, 9))\n",
    "\n",
    "sns.lineplot(data=losses, x=losses.index, y='Loss', hue='RNN', ax=ax)\n",
    "plt.show()"
   ]
  }
 ],
 "metadata": {
  "kernelspec": {
   "display_name": "Python3 (tf-gpu)",
   "language": "python",
   "name": "tf-gpu"
  },
  "language_info": {
   "codemirror_mode": {
    "name": "ipython",
    "version": 3
   },
   "file_extension": ".py",
   "mimetype": "text/x-python",
   "name": "python",
   "nbconvert_exporter": "python",
   "pygments_lexer": "ipython3",
   "version": "3.6.5"
  }
 },
 "nbformat": 4,
 "nbformat_minor": 2
}
